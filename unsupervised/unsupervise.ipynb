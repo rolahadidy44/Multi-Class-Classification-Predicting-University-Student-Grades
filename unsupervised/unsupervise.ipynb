{
 "cells": [
  {
   "cell_type": "code",
   "execution_count": 29,
   "metadata": {},
   "outputs": [],
   "source": [
    "import pandas as pd\n",
    "import numpy as np\n",
    "from sklearn.preprocessing import StandardScaler\n",
    "from sklearn.cluster import KMeans\n",
    "from sklearn.metrics import silhouette_score\n",
    "import matplotlib.pyplot as plt\n",
    "import seaborn as sns\n"
   ]
  },
  {
   "cell_type": "code",
   "execution_count": 30,
   "metadata": {},
   "outputs": [],
   "source": [
    "df =pd.read_csv(\"../data/cleaned_data123.csv\")"
   ]
  },
  {
   "cell_type": "code",
   "execution_count": 31,
   "metadata": {},
   "outputs": [],
   "source": [
    "df_clustering = df.select_dtypes(include=['int64', 'float64'])"
   ]
  },
  {
   "cell_type": "code",
   "execution_count": 32,
   "metadata": {},
   "outputs": [],
   "source": [
    "scaler = StandardScaler()\n",
    "x_scaled = scaler.fit_transform(df_clustering)"
   ]
  },
  {
   "cell_type": "code",
   "execution_count": 33,
   "metadata": {},
   "outputs": [],
   "source": [
    "KMeans = KMeans(n_clusters=3, random_state=42)\n",
    "KMeans.fit(x_scaled)\n",
    "clusters = KMeans.labels_\n",
    "df['cluster'] = clusters"
   ]
  },
  {
   "cell_type": "code",
   "execution_count": 34,
   "metadata": {},
   "outputs": [
    {
     "name": "stdout",
     "output_type": "stream",
     "text": [
      "silhouette Score: 0.050\n"
     ]
    }
   ],
   "source": [
    "score = silhouette_score(x_scaled, clusters)\n",
    "print(f\"silhouette Score: {score:.3f}\")"
   ]
  },
  {
   "cell_type": "code",
   "execution_count": 35,
   "metadata": {},
   "outputs": [
    {
     "name": "stdout",
     "output_type": "stream",
     "text": [
      "k=2  Silhouette Score = 0.052\n",
      "k=3  Silhouette Score = 0.050\n",
      "k=4  Silhouette Score = 0.048\n",
      "k=5  Silhouette Score = 0.048\n",
      "k=6  Silhouette Score = 0.047\n",
      "k=7  Silhouette Score = 0.045\n",
      "k=8  Silhouette Score = 0.047\n",
      "k=9  Silhouette Score = 0.047\n",
      "k=10  Silhouette Score = 0.048\n"
     ]
    }
   ],
   "source": [
    "# for k in range(2, 10):\n",
    "#     model = KMeans(n_clusters=k, random_state=42)\n",
    "#     model.fit(x_scaled)\n",
    "#     score = silhouette_score(x_scaled, model.labels_)\n",
    "#     print(f\"k={k}, Silhouette Score: {score:.3f}\")\n",
    "from sklearn.cluster import KMeans\n",
    "from sklearn.metrics import silhouette_score\n",
    "\n",
    "for k in range(2, 11):\n",
    "    model = KMeans(n_clusters=k, random_state=42)\n",
    "    model.fit(x_scaled)\n",
    "    labels = model.labels_\n",
    "    score = silhouette_score(x_scaled, labels)\n",
    "    print(f\"k={k}  Silhouette Score = {score:.3f}\")"
   ]
  },
  {
   "cell_type": "code",
   "execution_count": 36,
   "metadata": {},
   "outputs": [
    {
     "name": "stdout",
     "output_type": "stream",
     "text": [
      "Number of clusters found by DBSCAN: 0\n",
      "Not enough clusters to compute silhouette score.\n"
     ]
    }
   ],
   "source": [
    "from sklearn.cluster import DBSCAN\n",
    "from sklearn.metrics import silhouette_score\n",
    "\n",
    "dbscan = DBSCAN(eps=0.5, min_samples=5)\n",
    "labels = dbscan.fit_predict(x_scaled)\n",
    "\n",
    "# Check how many clusters (excluding noise)\n",
    "n_clusters = len(set(labels)) - (1 if -1 in labels else 0)\n",
    "print(\"Number of clusters found by DBSCAN:\", n_clusters)\n",
    "\n",
    "# Silhouette Score (only if >1 cluster found)\n",
    "if n_clusters > 1:\n",
    "    score = silhouette_score(x_scaled, labels)\n",
    "    print(f\"Silhouette Score (DBSCAN): {score:.3f}\")\n",
    "else:\n",
    "    print(\"Not enough clusters to compute silhouette score.\")\n"
   ]
  },
  {
   "cell_type": "code",
   "execution_count": 37,
   "metadata": {},
   "outputs": [
    {
     "name": "stdout",
     "output_type": "stream",
     "text": [
      "k=2 → Silhouette Score (PCA): 0.309\n",
      "k=3 → Silhouette Score (PCA): 0.336\n",
      "k=4 → Silhouette Score (PCA): 0.313\n",
      "k=5 → Silhouette Score (PCA): 0.302\n",
      "k=6 → Silhouette Score (PCA): 0.323\n",
      "k=7 → Silhouette Score (PCA): 0.319\n",
      "k=8 → Silhouette Score (PCA): 0.307\n",
      "k=9 → Silhouette Score (PCA): 0.310\n",
      "k=10 → Silhouette Score (PCA): 0.318\n",
      "[0.07778258 0.07602195]\n"
     ]
    }
   ],
   "source": [
    "from sklearn.decomposition import PCA\n",
    "\n",
    "pca = PCA(n_components=2)\n",
    "x_pca = pca.fit_transform(x_scaled)\n",
    "\n",
    "for k in range(2, 11):\n",
    "    model = KMeans(n_clusters=k, random_state=42)\n",
    "    model.fit(x_pca)\n",
    "    labels = model.labels_\n",
    "    score = silhouette_score(x_pca, labels)\n",
    "    print(f\"k={k} → Silhouette Score (PCA): {score:.3f}\")\n",
    "print(pca.explained_variance_ratio_)"
   ]
  },
  {
   "cell_type": "code",
   "execution_count": 1,
   "metadata": {},
   "outputs": [
    {
     "ename": "NameError",
     "evalue": "name 'PCA' is not defined",
     "output_type": "error",
     "traceback": [
      "\u001b[0;31m---------------------------------------------------------------------------\u001b[0m",
      "\u001b[0;31mNameError\u001b[0m                                 Traceback (most recent call last)",
      "Cell \u001b[0;32mIn[1], line 3\u001b[0m\n\u001b[1;32m      1\u001b[0m \u001b[38;5;28;01mimport\u001b[39;00m\u001b[38;5;250m \u001b[39m\u001b[38;5;21;01mmatplotlib\u001b[39;00m\u001b[38;5;21;01m.\u001b[39;00m\u001b[38;5;21;01mpyplot\u001b[39;00m\u001b[38;5;250m \u001b[39m\u001b[38;5;28;01mas\u001b[39;00m\u001b[38;5;250m \u001b[39m\u001b[38;5;21;01mplt\u001b[39;00m\n\u001b[0;32m----> 3\u001b[0m pca_2d \u001b[38;5;241m=\u001b[39m \u001b[43mPCA\u001b[49m(n_components\u001b[38;5;241m=\u001b[39m\u001b[38;5;241m2\u001b[39m)\n\u001b[1;32m      4\u001b[0m x_pca_2d \u001b[38;5;241m=\u001b[39m pca_2d\u001b[38;5;241m.\u001b[39mfit_transform(x_scaled)\n\u001b[1;32m      6\u001b[0m plt\u001b[38;5;241m.\u001b[39mscatter(x_pca_2d[:, \u001b[38;5;241m0\u001b[39m], x_pca_2d[:, \u001b[38;5;241m1\u001b[39m], c\u001b[38;5;241m=\u001b[39mlabels, cmap\u001b[38;5;241m=\u001b[39m\u001b[38;5;124m'\u001b[39m\u001b[38;5;124mviridis\u001b[39m\u001b[38;5;124m'\u001b[39m)\n",
      "\u001b[0;31mNameError\u001b[0m: name 'PCA' is not defined"
     ]
    }
   ],
   "source": [
    "import matplotlib.pyplot as plt\n",
    "\n",
    "pca_2d = PCA(n_components=2)\n",
    "x_pca_2d = pca_2d.fit_transform(x_scaled)\n",
    "\n",
    "plt.scatter(x_pca_2d[:, 0], x_pca_2d[:, 1], c=labels, cmap='viridis')\n",
    "plt.title(\"Student Clusters (Visualized in 2D PCA Space)\")\n",
    "plt.xlabel(\"PCA 1\")\n",
    "plt.ylabel(\"PCA 2\")\n",
    "plt.colorbar(label=\"Cluster\")\n",
    "plt.show()\n"
   ]
  },
  {
   "cell_type": "code",
   "execution_count": 46,
   "metadata": {},
   "outputs": [
    {
     "name": "stdout",
     "output_type": "stream",
     "text": [
      "Number of clusters found by DBSCAN: 0\n",
      "Not enough clusters to compute silhouette score.\n"
     ]
    }
   ],
   "source": [
    "#dbscan #2\n",
    "from sklearn.cluster import DBSCAN\n",
    "from sklearn.metrics import silhouette_score\n",
    "\n",
    "dbscan = DBSCAN(eps=0.5, min_samples=5)\n",
    "labels = dbscan.fit_predict(x_scaled)\n",
    "\n",
    "# Check how many clusters (excluding noise)\n",
    "n_clusters = len(set(labels)) - (1 if -1 in labels else 0)\n",
    "print(\"Number of clusters found by DBSCAN:\", n_clusters)\n",
    "\n",
    "# Silhouette Score (only if >1 cluster found)\n",
    "if n_clusters > 1:\n",
    "    score = silhouette_score(x_scaled, labels)\n",
    "    print(f\"Silhouette Score (DBSCAN): {score:.3f}\")\n",
    "else:\n",
    "    print(\"Not enough clusters to compute silhouette score.\")"
   ]
  },
  {
   "cell_type": "code",
   "execution_count": 39,
   "metadata": {},
   "outputs": [
    {
     "name": "stdout",
     "output_type": "stream",
     "text": [
      "         Hours_Studied  Attendance  Parental_Involvement  Access_to_Resources  \\\n",
      "Cluster                                                                         \n",
      "0            17.740964   88.295181              2.315261             1.841365   \n",
      "1            22.520525   71.410509              2.142857             2.068966   \n",
      "2            20.455314   78.159420              2.000000             2.264493   \n",
      "3            19.551339   81.613839              2.622768             1.529018   \n",
      "4            21.183824   71.593137              2.585784             1.666667   \n",
      "5            21.567686   73.737991              1.626638             2.495633   \n",
      "6            18.016000   90.098667              1.706667             2.392000   \n",
      "7            20.150327   78.476035              2.318083             1.927015   \n",
      "8            18.692403   84.449564              2.007472             2.136986   \n",
      "9            19.677193   83.775439              1.543860             2.577193   \n",
      "\n",
      "         Sleep_Hours  Previous_Scores  Motivation_Level  Tutoring_Sessions  \\\n",
      "Cluster                                                                      \n",
      "0           7.056225        65.610442          2.016064           1.857430   \n",
      "1           7.440066        78.908046          1.656814           0.927750   \n",
      "2           6.861111        79.852657          1.935990           1.103865   \n",
      "3           7.703125        62.205357          1.633929           1.790179   \n",
      "4           8.139706        69.303922          1.490196           1.274510   \n",
      "5           6.705240        87.471616          1.934498           0.737991   \n",
      "6           6.056000        75.050667          2.301333           1.581333   \n",
      "7           7.348584        71.278867          1.791939           1.421569   \n",
      "8           6.809465        73.606476          2.031133           1.393524   \n",
      "9           6.298246        84.849123          2.275439           0.956140   \n",
      "\n",
      "         Family_Income  Teacher_Quality  ...  Extracurricular_Activities_Yes  \\\n",
      "Cluster                                  ...                                   \n",
      "0             2.016064         2.345382  ...                        0.616466   \n",
      "1             1.538588         2.203612  ...                        0.604269   \n",
      "2             1.747585         2.130435  ...                        0.599034   \n",
      "3             1.888393         2.446429  ...                        0.582589   \n",
      "4             1.617647         2.399510  ...                        0.583333   \n",
      "5             1.615721         1.965066  ...                        0.572052   \n",
      "6             2.066667         2.069333  ...                        0.578667   \n",
      "7             1.785403         2.293028  ...                        0.598039   \n",
      "8             1.881694         2.179328  ...                        0.605230   \n",
      "9             1.784211         1.980702  ...                        0.603509   \n",
      "\n",
      "         Internet_Access_No  Internet_Access_Yes  Learning_Disabilities_No  \\\n",
      "Cluster                                                                      \n",
      "0                  0.092369             0.907631                  0.915663   \n",
      "1                  0.067323             0.932677                  0.885057   \n",
      "2                  0.078502             0.921498                  0.902174   \n",
      "3                  0.071429             0.928571                  0.895089   \n",
      "4                  0.078431             0.921569                  0.882353   \n",
      "5                  0.082969             0.917031                  0.882096   \n",
      "6                  0.066667             0.933333                  0.885333   \n",
      "7                  0.064270             0.935730                  0.891068   \n",
      "8                  0.092154             0.907846                  0.912827   \n",
      "9                  0.080702             0.919298                  0.900000   \n",
      "\n",
      "         Learning_Disabilities_Yes  School_Type_Private  School_Type_Public  \\\n",
      "Cluster                                                                       \n",
      "0                         0.084337             0.305221            0.694779   \n",
      "1                         0.114943             0.331691            0.668309   \n",
      "2                         0.097826             0.300725            0.699275   \n",
      "3                         0.104911             0.305804            0.694196   \n",
      "4                         0.117647             0.296569            0.703431   \n",
      "5                         0.117904             0.290393            0.709607   \n",
      "6                         0.114667             0.317333            0.682667   \n",
      "7                         0.108932             0.293028            0.706972   \n",
      "8                         0.087173             0.311333            0.688667   \n",
      "9                         0.100000             0.287719            0.712281   \n",
      "\n",
      "         Gender_Female  Gender_Male   cluster  \n",
      "Cluster                                        \n",
      "0             0.431727     0.568273  0.736948  \n",
      "1             0.440066     0.559934  1.704433  \n",
      "2             0.419082     0.580918  1.167874  \n",
      "3             0.421875     0.578125  0.812500  \n",
      "4             0.411765     0.588235  1.416667  \n",
      "5             0.401747     0.598253  1.692140  \n",
      "6             0.400000     0.600000  0.685333  \n",
      "7             0.434641     0.565359  0.964052  \n",
      "8             0.438356     0.561644  0.729763  \n",
      "9             0.398246     0.601754  0.963158  \n",
      "\n",
      "[10 rows x 25 columns]\n"
     ]
    }
   ],
   "source": [
    "# ✅ Step 1: Add the cluster labels to your original DataFrame\n",
    "df['Cluster'] = labels\n",
    "\n",
    "# ✅ Step 2: See what defines each cluster\n",
    "print(df.groupby('Cluster').mean(numeric_only=True))\n",
    "\n",
    "# ✅ Step 3 (Optional): Compare to grades (if you have a 'Final_Grade' column)\n",
    "if 'Final_Grade' in df.columns:\n",
    "    print(pd.crosstab(df['Cluster'], df['Final_Grade']))"
   ]
  },
  {
   "cell_type": "code",
   "execution_count": 40,
   "metadata": {},
   "outputs": [
    {
     "data": {
      "image/png": "[encoded data removed]",
      "text/plain": [
       "<Figure size 640x480 with 1 Axes>"
      ]
     },
     "metadata": {},
     "output_type": "display_data"
    }
   ],
   "source": [
    "inertias = []\n",
    "for k in range(1, 11):\n",
    "    model = KMeans(n_clusters=k, random_state=42)\n",
    "    model.fit(x_scaled)\n",
    "    inertias.append(model.inertia_)\n",
    "\n",
    "plt.plot(range(1, 11), inertias, marker='o')\n",
    "plt.xlabel('k')\n",
    "plt.ylabel('Inertia (Sum of Squared Distances)')\n",
    "plt.title('Elbow Method')\n",
    "plt.grid(True)\n",
    "plt.show()\n"
   ]
  }
 ],
 "metadata": {
  "kernelspec": {
   "display_name": "Python 3",
   "language": "python",
   "name": "python3"
  },
  "language_info": {
   "codemirror_mode": {
    "name": "ipython",
    "version": 3
   },
   "file_extension": ".py",
   "mimetype": "text/x-python",
   "name": "python",
   "nbconvert_exporter": "python",
   "pygments_lexer": "ipython3",
   "version": "3.10.12"
  }
 },
 "nbformat": 4,
 "nbformat_minor": 2
}
